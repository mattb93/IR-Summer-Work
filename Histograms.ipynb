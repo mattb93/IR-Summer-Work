{
 "cells": [
  {
   "cell_type": "code",
   "execution_count": 41,
   "metadata": {
    "collapsed": false
   },
   "outputs": [],
   "source": [
    "import pandas as pd\n",
    "import matplotlib.pyplot as plt\n",
    "\n",
    "Germanwings_path = \"/home/hshahin/workspaces/Spring2016_IR_Project/data/predictions/20160420-182946_602_Germanwings\"\n",
    "NAACPBombing_path = \"/home/hshahin/workspaces/Spring2016_IR_Project/data/predictions/20160420-183118_541_NAACPBombing\"\n",
    "houstonflood_path = \"/home/hshahin/workspaces/Spring2016_IR_Project/data/predictions/20160420-183214_668_houstonflood\"\n",
    "wdbj7shooting_path = \"/home/hshahin/workspaces/Spring2016_IR_Project/data/predictions/20160420-183304_700_wdbj7shooting\"\n",
    "Obamacare_path = \"/home/hshahin/workspaces/Spring2016_IR_Project/data/predictions/20160420-183824_686_Obamacare\"\n",
    "fourthofJuly_path = \"/home/hshahin/workspaces/Spring2016_IR_Project/data/predictions/20160420-183954_694_4thofJuly\"\n",
    "\n",
    "Germanwings_df = pd.DataFrame.from_csv(Germanwings_path, sep='\\t', index_col=None)\n",
    "NAACPBombing_df = pd.DataFrame.from_csv(NAACPBombing_path, sep='\\t', index_col=None)\n",
    "houstonflood_df = pd.DataFrame.from_csv(houstonflood_path, sep='\\t', index_col=None)\n",
    "wdbj7shooting_df = pd.DataFrame.from_csv(wdbj7shooting_path, sep='\\t', index_col=None)\n",
    "Obamacare_df = pd.DataFrame.from_csv(Obamacare_path, sep='\\t', index_col=None)\n",
    "fourthofJuly_df = pd.DataFrame.from_csv(fourthofJuly_path, sep='\\t', index_col=None)\n",
    "\n",
    "\n",
    "fig, ax = plt.subplots() \n",
    "Germanwings_df.hist('Probability', ax=ax)\n",
    "fig.savefig('Germanwings.png')\n",
    "\n",
    "fig, ax = plt.subplots() \n",
    "NAACPBombing_df.hist('Probability', ax=ax)\n",
    "fig.savefig('NAACPBombing.png')\n",
    "\n",
    "fig, ax = plt.subplots() \n",
    "houstonflood_df.hist('Probability', ax=ax)\n",
    "fig.savefig('houstonflood.png')\n",
    "\n",
    "fig, ax = plt.subplots() \n",
    "wdbj7shooting_df.hist('Probability', ax=ax)\n",
    "fig.savefig('wdbj7shooting.png')\n",
    "\n",
    "fig, ax = plt.subplots() \n",
    "Obamacare_df.hist('Probability', ax=ax)\n",
    "fig.savefig('Obamacare.png')\n",
    "\n",
    "fig, ax = plt.subplots() \n",
    "fourthofJuly_df.hist('Probability', ax=ax)\n",
    "fig.savefig('fourthofJuly.png')\n",
    "\n"
   ]
  },
  {
   "cell_type": "code",
   "execution_count": null,
   "metadata": {
    "collapsed": true
   },
   "outputs": [],
   "source": []
  }
 ],
 "metadata": {
  "kernelspec": {
   "display_name": "Python 2",
   "language": "python",
   "name": "python2"
  },
  "language_info": {
   "codemirror_mode": {
    "name": "ipython",
    "version": 2
   },
   "file_extension": ".py",
   "mimetype": "text/x-python",
   "name": "python",
   "nbconvert_exporter": "python",
   "pygments_lexer": "ipython2",
   "version": "2.7.10"
  }
 },
 "nbformat": 4,
 "nbformat_minor": 0
}
